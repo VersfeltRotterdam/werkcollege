{
 "cells": [
  {
   "cell_type": "code",
   "execution_count": 1,
   "metadata": {},
   "outputs": [
    {
     "ename": "ModuleNotFoundError",
     "evalue": "No module named 'matplotlib'",
     "output_type": "error",
     "traceback": [
      "\u001b[1;31m---------------------------------------------------------------------------\u001b[0m",
      "\u001b[1;31mModuleNotFoundError\u001b[0m                       Traceback (most recent call last)",
      "Cell \u001b[1;32mIn[1], line 2\u001b[0m\n\u001b[0;32m      1\u001b[0m \u001b[39mfrom\u001b[39;00m \u001b[39mutils\u001b[39;00m\u001b[39m.\u001b[39;00m\u001b[39msent_score\u001b[39;00m \u001b[39mimport\u001b[39;00m _sent_score\n\u001b[1;32m----> 2\u001b[0m \u001b[39mfrom\u001b[39;00m \u001b[39malgorithm\u001b[39;00m\u001b[39m.\u001b[39;00m\u001b[39mgenetic_algorithm\u001b[39;00m \u001b[39mimport\u001b[39;00m GeneticAlgorithm\n",
      "File \u001b[1;32mc:\\Users\\156568\\Visual Studio Code\\werkcollege\\algorithm\\genetic_algorithm.py:4\u001b[0m\n\u001b[0;32m      2\u001b[0m \u001b[39mimport\u001b[39;00m \u001b[39mtime\u001b[39;00m\n\u001b[0;32m      3\u001b[0m \u001b[39mimport\u001b[39;00m \u001b[39mnumpy\u001b[39;00m \u001b[39mas\u001b[39;00m \u001b[39mnp\u001b[39;00m\n\u001b[1;32m----> 4\u001b[0m \u001b[39mimport\u001b[39;00m \u001b[39mmatplotlib\u001b[39;00m\u001b[39m.\u001b[39;00m\u001b[39mpyplot\u001b[39;00m \u001b[39mas\u001b[39;00m \u001b[39mplt\u001b[39;00m\n\u001b[0;32m      6\u001b[0m \u001b[39mfrom\u001b[39;00m \u001b[39mutils\u001b[39;00m\u001b[39m.\u001b[39;00m\u001b[39mdata_loader\u001b[39;00m \u001b[39mimport\u001b[39;00m _get_graph_from_dbfs, _get_distances_from_dbfs, _get_paths_from_dbfs\n\u001b[0;32m      7\u001b[0m \u001b[39mfrom\u001b[39;00m \u001b[39malgorithm\u001b[39;00m\u001b[39m.\u001b[39;00m\u001b[39minitialisation\u001b[39;00m \u001b[39mimport\u001b[39;00m _initialize_population\n",
      "\u001b[1;31mModuleNotFoundError\u001b[0m: No module named 'matplotlib'"
     ]
    }
   ],
   "source": [
    "from utils.sent_score import _sent_score\n",
    "from algorithm.genetic_algorithm import GeneticAlgorithm"
   ]
  },
  {
   "cell_type": "code",
   "execution_count": null,
   "metadata": {},
   "outputs": [],
   "source": [
    "# use autoreload magic to reload classes\n",
    "%reload_ext autoreload\n",
    "%autoreload 2\n",
    "\n",
    "GA = GeneticAlgorithm(\n",
    "    population_size = 45, \n",
    "    mutation_bits = 4, \n",
    "    iterations = 20_000, \n",
    "    mutation_probability = 0.05, \n",
    "    mutation_active = True, \n",
    "    local_search_active = True, \n",
    "    neighborhood_size = 20\n",
    ")\n",
    "(best_route, score) = GA.solve()\n",
    "GA.animate_progression()"
   ]
  },
  {
   "cell_type": "code",
   "execution_count": 5,
   "metadata": {},
   "outputs": [],
   "source": [
    "team_name = \"Pieter - nieuwe crossover (OX)\""
   ]
  },
  {
   "cell_type": "code",
   "execution_count": 6,
   "metadata": {},
   "outputs": [],
   "source": [
    "_sent_score(team_name, 0, [0])"
   ]
  }
 ],
 "metadata": {
  "kernelspec": {
   "display_name": "Python 3",
   "language": "python",
   "name": "python3"
  },
  "language_info": {
   "codemirror_mode": {
    "name": "ipython",
    "version": 3
   },
   "file_extension": ".py",
   "mimetype": "text/x-python",
   "name": "python",
   "nbconvert_exporter": "python",
   "pygments_lexer": "ipython3",
   "version": "3.9.16"
  },
  "orig_nbformat": 4
 },
 "nbformat": 4,
 "nbformat_minor": 2
}

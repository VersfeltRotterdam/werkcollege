{
 "cells": [
  {
   "cell_type": "code",
   "execution_count": null,
   "metadata": {},
   "outputs": [],
   "source": [
    "from utils.sent_score import _sent_score\n",
    "from algorithm.genetic_algorithm import GeneticAlgorithm"
   ]
  },
  {
   "cell_type": "code",
   "execution_count": null,
   "metadata": {},
   "outputs": [],
   "source": [
    "# use autoreload magic to reload classes\n",
    "%reload_ext autoreload\n",
    "%autoreload 2\n",
    "\n",
    "GA = GeneticAlgorithm(\n",
    "    population_size=20,\n",
    "    mutation_bits=4,\n",
    "    iterations=10_000,\n",
    "    mutation_active=True,\n",
    "    local_search_active=False\n",
    ")\n",
    "(best_route, score) = GA.solve()\n",
    "GA.animate_progression()"
   ]
  },
  {
   "cell_type": "markdown",
   "metadata": {},
   "source": [
    "### Only run the code below if you want to submit your results for the competition"
   ]
  },
  {
   "cell_type": "code",
   "execution_count": null,
   "metadata": {},
   "outputs": [],
   "source": [
    "# Fill in your team name below\n",
    "\n",
    "team_name = \"\""
   ]
  },
  {
   "cell_type": "code",
   "execution_count": null,
   "metadata": {},
   "outputs": [],
   "source": [
    "_sent_score(team_name, 0, [0])"
   ]
  }
 ],
 "metadata": {
  "kernelspec": {
   "display_name": "Python 3",
   "language": "python",
   "name": "python3"
  },
  "language_info": {
   "codemirror_mode": {
    "name": "ipython",
    "version": 3
   },
   "file_extension": ".py",
   "mimetype": "text/x-python",
   "name": "python",
   "nbconvert_exporter": "python",
   "pygments_lexer": "ipython3",
   "version": "3.9.16"
  },
  "orig_nbformat": 4
 },
 "nbformat": 4,
 "nbformat_minor": 2
}
